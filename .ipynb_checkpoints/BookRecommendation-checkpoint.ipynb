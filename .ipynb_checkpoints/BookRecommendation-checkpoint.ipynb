{
 "cells": [
  {
   "cell_type": "code",
   "execution_count": null,
   "id": "29c12e55",
   "metadata": {},
   "outputs": [],
   "source": [
    "import numpy as np\n",
    "import pandas as pd\n",
    "import matplotlib.pyplot as plt"
   ]
  },
  {
   "cell_type": "markdown",
   "id": "3794d0f7",
   "metadata": {},
   "source": [
    "# <font color='black'>Dataset Content:</font>\n",
    "This dataset is... (Write summary here) \n",
    "\n",
    "The dataset has 11127 unique entries, and contains the following 13 fields:\n",
    "* **Book Id** Contains the unique ID for each book\n",
    "* **Title**\n",
    "* **Author**\n",
    "* **average_rating**\n",
    "* **isbn**\n",
    "* **isbn13**\n",
    "* **language_code**\n",
    "* **num_pages**\n",
    "* **ratings_count**\n",
    "* **text_reviews_count**\n",
    "* **publication_date**\n",
    "* **publisher**\n",
    "* **genre**"
   ]
  },
  {
   "cell_type": "code",
   "execution_count": null,
   "id": "4827e55d",
   "metadata": {},
   "outputs": [],
   "source": [
    "df = pd.read_csv(\"Goodreads_books_with_genres.csv\")\n",
    "df.head(10)"
   ]
  },
  {
   "cell_type": "code",
   "execution_count": null,
   "id": "447511c6",
   "metadata": {},
   "outputs": [],
   "source": [
    "df = df.dropna(subset=[\"genres\"]) # Some records have no genres, delete"
   ]
  },
  {
   "cell_type": "code",
   "execution_count": null,
   "id": "93cfbc3a",
   "metadata": {},
   "outputs": [],
   "source": [
    "df.Title.duplicated"
   ]
  },
  {
   "cell_type": "code",
   "execution_count": null,
   "id": "41a79edd",
   "metadata": {},
   "outputs": [],
   "source": []
  },
  {
   "cell_type": "code",
   "execution_count": null,
   "id": "82763de2",
   "metadata": {},
   "outputs": [],
   "source": []
  }
 ],
 "metadata": {
  "kernelspec": {
   "display_name": "Python 3 (ipykernel)",
   "language": "python",
   "name": "python3"
  },
  "language_info": {
   "codemirror_mode": {
    "name": "ipython",
    "version": 3
   },
   "file_extension": ".py",
   "mimetype": "text/x-python",
   "name": "python",
   "nbconvert_exporter": "python",
   "pygments_lexer": "ipython3",
   "version": "3.11.5"
  }
 },
 "nbformat": 4,
 "nbformat_minor": 5
}
